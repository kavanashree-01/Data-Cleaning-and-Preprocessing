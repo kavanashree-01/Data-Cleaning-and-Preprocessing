{
  "nbformat": 4,
  "nbformat_minor": 0,
  "metadata": {
    "colab": {
      "provenance": []
    },
    "kernelspec": {
      "name": "python3",
      "display_name": "Python 3"
    },
    "language_info": {
      "name": "python"
    }
  },
  "cells": [
    {
      "cell_type": "markdown",
      "source": [
        "##**TASK - 1 Data Cleaning and Preprocessing**"
      ],
      "metadata": {
        "id": "XWY9D6NXwKe0"
      }
    },
    {
      "cell_type": "markdown",
      "source": [
        "This project follows 5 Steps:\n",
        "\n",
        "1) Loading the data\n",
        "\n",
        "2) Handelling missing values\n",
        "\n",
        "3) Coverting categorical variables\n",
        "\n",
        "4) Final data checking\n",
        "\n",
        "5) Saving the cleaned data"
      ],
      "metadata": {
        "id": "vyoFC6wdwU5f"
      }
    },
    {
      "cell_type": "markdown",
      "source": [
        "**Step -1 Loading the data**"
      ],
      "metadata": {
        "id": "CfnQFZOXxGxB"
      }
    },
    {
      "cell_type": "code",
      "source": [
        "import pandas as pd\n",
        "import numpy as np\n",
        "\n",
        "# Load the dataset\n",
        "df = pd.read_csv('/content/Telco_Customer_Churn_Dataset .csv')\n",
        "\n",
        "# Display basic info\n",
        "print(df.info())\n",
        "print(df.head())"
      ],
      "metadata": {
        "colab": {
          "base_uri": "https://localhost:8080/"
        },
        "id": "GPRZPrfqyJ9Q",
        "outputId": "113acd25-ac8d-42e9-f9b7-c847a129460a"
      },
      "execution_count": 5,
      "outputs": [
        {
          "output_type": "stream",
          "name": "stdout",
          "text": [
            "<class 'pandas.core.frame.DataFrame'>\n",
            "RangeIndex: 7043 entries, 0 to 7042\n",
            "Data columns (total 21 columns):\n",
            " #   Column            Non-Null Count  Dtype  \n",
            "---  ------            --------------  -----  \n",
            " 0   customerID        7043 non-null   object \n",
            " 1   gender            7043 non-null   object \n",
            " 2   SeniorCitizen     7043 non-null   int64  \n",
            " 3   Partner           7043 non-null   object \n",
            " 4   Dependents        7043 non-null   object \n",
            " 5   tenure            7043 non-null   int64  \n",
            " 6   PhoneService      7043 non-null   object \n",
            " 7   MultipleLines     7043 non-null   object \n",
            " 8   InternetService   7043 non-null   object \n",
            " 9   OnlineSecurity    7043 non-null   object \n",
            " 10  OnlineBackup      7043 non-null   object \n",
            " 11  DeviceProtection  7043 non-null   object \n",
            " 12  TechSupport       7043 non-null   object \n",
            " 13  StreamingTV       7043 non-null   object \n",
            " 14  StreamingMovies   7043 non-null   object \n",
            " 15  Contract          7043 non-null   object \n",
            " 16  PaperlessBilling  7043 non-null   object \n",
            " 17  PaymentMethod     7043 non-null   object \n",
            " 18  MonthlyCharges    7043 non-null   float64\n",
            " 19  TotalCharges      7043 non-null   object \n",
            " 20  Churn             7043 non-null   object \n",
            "dtypes: float64(1), int64(2), object(18)\n",
            "memory usage: 1.1+ MB\n",
            "None\n",
            "   customerID  gender  SeniorCitizen Partner Dependents  tenure PhoneService  \\\n",
            "0  7590-VHVEG  Female              0     Yes         No       1           No   \n",
            "1  5575-GNVDE    Male              0      No         No      34          Yes   \n",
            "2  3668-QPYBK    Male              0      No         No       2          Yes   \n",
            "3  7795-CFOCW    Male              0      No         No      45           No   \n",
            "4  9237-HQITU  Female              0      No         No       2          Yes   \n",
            "\n",
            "      MultipleLines InternetService OnlineSecurity  ... DeviceProtection  \\\n",
            "0  No phone service             DSL             No  ...               No   \n",
            "1                No             DSL            Yes  ...              Yes   \n",
            "2                No             DSL            Yes  ...               No   \n",
            "3  No phone service             DSL            Yes  ...              Yes   \n",
            "4                No     Fiber optic             No  ...               No   \n",
            "\n",
            "  TechSupport StreamingTV StreamingMovies        Contract PaperlessBilling  \\\n",
            "0          No          No              No  Month-to-month              Yes   \n",
            "1          No          No              No        One year               No   \n",
            "2          No          No              No  Month-to-month              Yes   \n",
            "3         Yes          No              No        One year               No   \n",
            "4          No          No              No  Month-to-month              Yes   \n",
            "\n",
            "               PaymentMethod MonthlyCharges  TotalCharges Churn  \n",
            "0           Electronic check          29.85         29.85    No  \n",
            "1               Mailed check          56.95        1889.5    No  \n",
            "2               Mailed check          53.85        108.15   Yes  \n",
            "3  Bank transfer (automatic)          42.30       1840.75    No  \n",
            "4           Electronic check          70.70        151.65   Yes  \n",
            "\n",
            "[5 rows x 21 columns]\n"
          ]
        }
      ]
    },
    {
      "cell_type": "markdown",
      "source": [
        "**Step 2 Handle Missing Values**"
      ],
      "metadata": {
        "id": "-LjP4GIxyQ7T"
      }
    },
    {
      "cell_type": "code",
      "source": [
        "# Convert empty strings in TotalCharges to NaN\n",
        "df['TotalCharges'] = df['TotalCharges'].replace(' ', np.nan).astype(float)\n",
        "\n",
        "# For customers with tenure=0, fill TotalCharges with 0 (new customers)\n",
        "# For others, fill with median based on tenure and service type\n",
        "mask = (df['tenure'] == 0) & (df['TotalCharges'].isna())\n",
        "df.loc[mask, 'TotalCharges'] = 0\n",
        "\n",
        "# For remaining missing values, fill with median by tenure group\n",
        "df['TotalCharges'] = df.groupby('tenure')['TotalCharges'].transform(lambda x: x.fillna(x.median()))"
      ],
      "metadata": {
        "id": "8NEWU16eyPpT"
      },
      "execution_count": 6,
      "outputs": []
    },
    {
      "cell_type": "markdown",
      "source": [
        "**Step 3 Convert Categorical Variables**"
      ],
      "metadata": {
        "id": "cCpgYlI9yfLD"
      }
    },
    {
      "cell_type": "code",
      "source": [
        "# Convert binary categorical variables (Yes/No) to 1/0\n",
        "binary_cols = ['Partner', 'Dependents', 'PhoneService', 'PaperlessBilling', 'Churn']\n",
        "for col in binary_cols:\n",
        "    df[col] = df[col].map({'Yes': 1, 'No': 0})\n",
        "\n",
        "# SeniorCitizen is already 0/1 but stored as int64, convert to int for consistency\n",
        "df['SeniorCitizen'] = df['SeniorCitizen'].astype(int)\n",
        "\n",
        "# For columns with \"No phone service\" or \"No internet service\", we can treat them as \"No\"\n",
        "service_cols = ['MultipleLines', 'OnlineSecurity', 'OnlineBackup', 'DeviceProtection', 'TechSupport', 'StreamingTV', 'StreamingMovies']\n",
        "\n",
        "for col in service_cols:\n",
        "    df[col] = df[col].replace({'No phone service': 0, 'No internet service': 0, 'No': 0, 'Yes': 1})\n",
        "\n",
        "# One-hot encode remaining categorical variables\n",
        "categorical_cols = ['gender', 'InternetService', 'Contract', 'PaymentMethod']\n",
        "df = pd.get_dummies(df, columns=categorical_cols, drop_first=True)\n",
        "\n",
        "# Drop customerID as it's not useful for modeling\n",
        "df = df.drop('customerID', axis=1)"
      ],
      "metadata": {
        "colab": {
          "base_uri": "https://localhost:8080/"
        },
        "id": "h9jUrN8zydIY",
        "outputId": "a4c7b812-af7c-48d4-b067-3249e7d41cfd"
      },
      "execution_count": 7,
      "outputs": [
        {
          "output_type": "stream",
          "name": "stderr",
          "text": [
            "/tmp/ipython-input-7-871130904.py:13: FutureWarning: Downcasting behavior in `replace` is deprecated and will be removed in a future version. To retain the old behavior, explicitly call `result.infer_objects(copy=False)`. To opt-in to the future behavior, set `pd.set_option('future.no_silent_downcasting', True)`\n",
            "  df[col] = df[col].replace({'No phone service': 0, 'No internet service': 0, 'No': 0, 'Yes': 1})\n"
          ]
        }
      ]
    },
    {
      "cell_type": "markdown",
      "source": [
        "**Step 4 Final Data Check**"
      ],
      "metadata": {
        "id": "I28YaGK-yt_-"
      }
    },
    {
      "cell_type": "code",
      "source": [
        "# Check for any remaining missing values\n",
        "print(df.isnull().sum())\n",
        "\n",
        "# Check data types\n",
        "print(df.dtypes)\n",
        "\n",
        "# Verify binary columns were properly encoded\n",
        "print(df[['Partner', 'Dependents', 'Churn']].head())"
      ],
      "metadata": {
        "colab": {
          "base_uri": "https://localhost:8080/"
        },
        "id": "VVKtw28BysWt",
        "outputId": "0b13e4ef-b5f6-4d03-b2c5-815a159758a1"
      },
      "execution_count": 8,
      "outputs": [
        {
          "output_type": "stream",
          "name": "stdout",
          "text": [
            "SeniorCitizen                            0\n",
            "Partner                                  0\n",
            "Dependents                               0\n",
            "tenure                                   0\n",
            "PhoneService                             0\n",
            "MultipleLines                            0\n",
            "OnlineSecurity                           0\n",
            "OnlineBackup                             0\n",
            "DeviceProtection                         0\n",
            "TechSupport                              0\n",
            "StreamingTV                              0\n",
            "StreamingMovies                          0\n",
            "PaperlessBilling                         0\n",
            "MonthlyCharges                           0\n",
            "TotalCharges                             0\n",
            "Churn                                    0\n",
            "gender_Male                              0\n",
            "InternetService_Fiber optic              0\n",
            "InternetService_No                       0\n",
            "Contract_One year                        0\n",
            "Contract_Two year                        0\n",
            "PaymentMethod_Credit card (automatic)    0\n",
            "PaymentMethod_Electronic check           0\n",
            "PaymentMethod_Mailed check               0\n",
            "dtype: int64\n",
            "SeniorCitizen                              int64\n",
            "Partner                                    int64\n",
            "Dependents                                 int64\n",
            "tenure                                     int64\n",
            "PhoneService                               int64\n",
            "MultipleLines                              int64\n",
            "OnlineSecurity                             int64\n",
            "OnlineBackup                               int64\n",
            "DeviceProtection                           int64\n",
            "TechSupport                                int64\n",
            "StreamingTV                                int64\n",
            "StreamingMovies                            int64\n",
            "PaperlessBilling                           int64\n",
            "MonthlyCharges                           float64\n",
            "TotalCharges                             float64\n",
            "Churn                                      int64\n",
            "gender_Male                                 bool\n",
            "InternetService_Fiber optic                 bool\n",
            "InternetService_No                          bool\n",
            "Contract_One year                           bool\n",
            "Contract_Two year                           bool\n",
            "PaymentMethod_Credit card (automatic)       bool\n",
            "PaymentMethod_Electronic check              bool\n",
            "PaymentMethod_Mailed check                  bool\n",
            "dtype: object\n",
            "   Partner  Dependents  Churn\n",
            "0        1           0      0\n",
            "1        0           0      0\n",
            "2        0           0      1\n",
            "3        0           0      0\n",
            "4        0           0      1\n"
          ]
        }
      ]
    },
    {
      "cell_type": "markdown",
      "source": [
        "Step 5 Save Cleaned Data"
      ],
      "metadata": {
        "id": "M_AIq2LAy4oZ"
      }
    },
    {
      "cell_type": "code",
      "source": [
        "# Save cleaned data to new CSV file\n",
        "df.to_csv('Telco_Customer_Churn_Cleaned.csv', index=False)"
      ],
      "metadata": {
        "id": "EG9yotb7y2dd"
      },
      "execution_count": 9,
      "outputs": []
    },
    {
      "cell_type": "markdown",
      "source": [
        "**Conclusion**"
      ],
      "metadata": {
        "id": "OSwm6ErezicD"
      }
    },
    {
      "cell_type": "markdown",
      "source": [
        "We have successfully cleaned and preprocessed the Telco customer churn dataset to make it ready for analysis. Here is the detailed explaination of what we did:\n",
        "\n",
        "1.Fixed Missing Data: Handled gaps in TotalCharges—new customers (with zero tenure) got a 0, while others were filled with reasonable median values.\n",
        "\n",
        "2.Simplified Categories: Turned \"Yes/No\" answers into 1s and 0s for clarity, and grouped \"No internet/phone service\" as \"No\" to avoid redundancy.\n",
        "\n",
        "3.Encoded Text Data: Converted categorical features (like contract types or payment methods) into numerical formats using one-hot encoding so models can understand them.\n",
        "\n",
        "4.Removed Irrelevant Data: Dropped the customerID column since it doesn’t help predict churn.\n",
        "\n",
        "Therefore we took messy, real-world data and made it neat and usable—like organizing a cluttered desk so you can actually find what you need"
      ],
      "metadata": {
        "id": "2ZQfmQZezqdC"
      }
    },
    {
      "cell_type": "code",
      "source": [],
      "metadata": {
        "id": "jBipWq00zEoc"
      },
      "execution_count": null,
      "outputs": []
    }
  ]
}